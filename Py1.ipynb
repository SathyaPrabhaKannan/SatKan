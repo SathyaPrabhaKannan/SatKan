{
  "nbformat": 4,
  "nbformat_minor": 0,
  "metadata": {
    "colab": {
      "provenance": []
    },
    "kernelspec": {
      "name": "python3",
      "display_name": "Python 3"
    },
    "language_info": {
      "name": "python"
    }
  },
  "cells": [
    {
      "cell_type": "code",
      "execution_count": 20,
      "metadata": {
        "colab": {
          "base_uri": "https://localhost:8080/"
        },
        "id": "WfOu5vjV60H1",
        "outputId": "4bf1a8d6-b1d5-41c1-954d-a67d812d72df"
      },
      "outputs": [
        {
          "output_type": "stream",
          "name": "stdout",
          "text": [
            "Hello!\n",
            "Please enter student name to know your grades: Phan van A\n",
            "You scored : 96\n",
            "\n",
            "\n",
            "Your grade is Excellent\n",
            "Keep it up!!\n"
          ]
        }
      ],
      "source": [
        "print(\"Hello!\")\n",
        "# In Dictionary, the students marks is stored. When the user enters the student name(with correct spacing and spelling), the mark and grade of the student will display.\n",
        "all_students = {\"O ha ni\": 76, \"Ji ho\":  54, \"Eun joo\": 63, \"Mi na\": 84, \"Bo ra\" : 45, \"Zhang wei\": 55, \"Run chu\" : 94, \"Ai han\" : 59, \"Bei ye\" : 72,\n",
        "                        \"Cai ji\" : 85, \"Huynh thi B\": 89, \"Phan van A\" : 96,\"Cam lan bui\" : 32, \"Aisyah binti Musa\" : 20,\n",
        "                        \"Rizal bin Zinal\" : 99, \"Afnan nadia Megat\" : 79, \"Aadith Kumar\" : 64, \" Yamini Sundar\" : 45,\n",
        "                        \"Thenmozhi Karthikeyan\" : 53, \"Arjun Gowtham\" : 74, \"Nethra Krish\" : 94 }\n",
        "\n",
        "# input function to get the user input\n",
        "Name = input(\"Please enter student name to know your grades: \")\n",
        "\n",
        "if Name in all_students: #Name given by user as input is in the dictionary all_students, it matches the user input with dictionary and provide the mark scored by the student.\n",
        "  Score = (all_students[Name])\n",
        "\n",
        "  #print statements used to print the statement or text inside paranthesis.\n",
        "  #fstring is to print the string and values in the same statement.\n",
        "  print(f\"You scored : {Score}\")\n",
        "  print(\"\\n\")\n",
        "\n",
        "  if Score >= 80: #Once mark scored by the students is printed, the if statement will check the condition and print the grade and feedback to the students.\n",
        "    print(\"Your grade is Excellent\")\n",
        "    print(\"Keep it up!!\")\n",
        "  elif (Score >= 70 and Score < 80):\n",
        "    print(\"Your grade is Very good\")\n",
        "    print(\"Keep up the good work and Aim for higher marks!!\")\n",
        "  elif (Score >= 60 and Score < 70):\n",
        "    print(\"Your grade is Good\")\n",
        "    print(\"Good and can do better!!\")\n",
        "  elif (Score >= 50 and Score < 60):\n",
        "    print(\"Your grade is Pass\")\n",
        "    print(\"Please improve!!\")\n",
        "  else:\n",
        "    print(\"Your grade is Fail\")\n",
        "    print(\"Please try harder next time!!\")\n",
        "else:\n",
        "  print(\"Please enter the correct name!\") # if the user does not enter the correct(spelling and spacing) name. It prints the else statement to give the correct name next time."
      ]
    },
    {
      "cell_type": "code",
      "source": [
        "Asian_food = [\"nasi_lemak = **\", \"chicken_rice = ***\", \"roti_chennai = ***\", \"mohinga = ****\", \"ru_rou_fan = ***\", \"stinky_toufu = *\", \"peking_duck = ***\"]\n",
        "\n",
        "#print statements used to print the statement or text inside paranthesis.\n",
        "print(\"The food dishes with atleast 3-star ratings and above from the Asian_food are : \")\n",
        "\n",
        "#Used for loop to loop through the entire list line by line.and if condition to display the \"***\" rated food or above.\n",
        "\n",
        "for food in Asian_food:\n",
        "#if condition will specifically check for \" *** \" or above rated food and only print the food with \"***\" or above like 4 star and 5 star foods from the for loop\n",
        "  if \"***\" in food :\n",
        "    print(food)"
      ],
      "metadata": {
        "colab": {
          "base_uri": "https://localhost:8080/"
        },
        "id": "MWzAdSgdPHo0",
        "outputId": "0fccfe97-bddf-4928-9a91-21db4eecd08b"
      },
      "execution_count": 21,
      "outputs": [
        {
          "output_type": "stream",
          "name": "stdout",
          "text": [
            "The food dishes with atleast 3-star ratings and above from the Asian_food are : \n",
            "chicken_rice = ***\n",
            "roti_chennai = ***\n",
            "mohinga = ****\n",
            "ru_rou_fan = ***\n",
            "peking_duck = ***\n"
          ]
        }
      ]
    },
    {
      "cell_type": "code",
      "source": [
        "#importing random to use the random function.\n",
        "import random\n",
        "#Randint(1,500) is the range within which the random number needs to be generated.\n",
        "random_number = random.randint(1,500)\n",
        "\n",
        "#print(random_number)\n",
        "\n",
        "print(\"Good day!!!\\n\")\n",
        "name = input(\"Please enter your name : \\n\")\n",
        "\n",
        "#String concatenation: String(within double quotes) and variable(name)\n",
        "print(\"Welcome to the Game \"+ (name) + \"! Guess the number!!!!!!\\n\")\n",
        "print(\"Well! Lets guess the number that computer chose between 1 to 500!\\n\")\n",
        "\n",
        "#Creating empty list to find the number of guesses by user.\n",
        "guesses = []\n",
        "\n",
        "#int() is the type conversion from string to int.\n",
        "number = int(input(\"Please enter the number you guessed:\" ))\n",
        "\n",
        "#appending the number to the guesses list.\n",
        "guesses.append(number)\n",
        "\n",
        "# Used while to do number guess. User can try as many as times possible until user finds the number(number)\n",
        "while number != random_number:\n",
        "#if condition to guess the random with greater or lesser than condition also by printing a instruction statement to user.\n",
        "    if number > random_number:\n",
        "        print(\"Your guess is high\")\n",
        "    elif number < random_number:\n",
        "        print(\"Your guess is low\")\n",
        "\n",
        "    number = int(input(\"Please enter the number you guessed: \\n\" ))\n",
        "    guesses.append(number)\n",
        "#\\n is to create a new line\n",
        "#len function is used to find the number of guesses user have made.\n",
        "print(\"\\n\")\n",
        "print(f\"You won the game!!! You found the number after {len(guesses)} guesses\")"
      ],
      "metadata": {
        "colab": {
          "base_uri": "https://localhost:8080/"
        },
        "id": "z9k8JiSXnrYU",
        "outputId": "b8e8d47d-4fbf-48bf-cc82-0651f3f71be4"
      },
      "execution_count": 22,
      "outputs": [
        {
          "output_type": "stream",
          "name": "stdout",
          "text": [
            "Good day!!!\n",
            "\n",
            "Please enter your name : \n",
            "dd\n",
            "Welcome to the Game dd! Guess the number!!!!!!\n",
            "\n",
            "Well! Lets guess the number that computer chose between 1 to 500!\n",
            "\n",
            "Please enter the number you guessed:300\n",
            "Your guess is high\n",
            "Please enter the number you guessed: \n",
            "200\n",
            "Your guess is high\n",
            "Please enter the number you guessed: \n",
            "100\n",
            "Your guess is low\n",
            "Please enter the number you guessed: \n",
            "150\n",
            "Your guess is high\n",
            "Please enter the number you guessed: \n",
            "120\n",
            "Your guess is high\n",
            "Please enter the number you guessed: \n",
            "110\n",
            "\n",
            "\n",
            "You won the game!!! You found the number after 6 guesses\n"
          ]
        }
      ]
    },
    {
      "cell_type": "code",
      "source": [
        "#import csv to open the csv file.\n",
        "#import statistics to perform the min,max,median and average(mathematical) functions.\n",
        "import csv\n",
        "import statistics as st\n",
        "#with open read the csv file.\n",
        "with open('nvidia_stock_prices.csv', 'r', newline ='') as file:\n",
        "\n",
        "  reader = csv.DictReader(file)\n",
        "\n",
        "  #creating a empty list to append the prices\n",
        "  prices = []\n",
        "  #for loop to get the \"close\" column and use the strip function to remove the '$' sign.\n",
        "  for row in reader:\n",
        "    prices.append(float(row['Close'].strip('$')))\n",
        "\n",
        "# empty list to perform the average daily percentage by for loop and add in the list.\n",
        "per_diffs = []\n",
        "#Indexing from [1], so that the values will be in the first index.\n",
        "for i in range(1,len(prices)):\n",
        "  per_diff = ((prices[i]-prices[i-1])/prices[i-1]) * 100\n",
        "  per_diffs.append(per_diff)\n",
        "\n",
        "#performing to find number of days in the dataset,min,max,median and aaverage daily percentage change.\n",
        "print(\"The report of the 'nvidia_stock_prices' are as follows: \\n\")\n",
        "print(f\"Number of days in the dataset :\",len(prices))\n",
        "print(\"Highest price : $\", max(prices))\n",
        "print(\"Lowest price : $\", min(prices))\n",
        "print(\"Median price : $\", st.median(prices))\n",
        "print(\"Average daily percentage change :\", st.mean(per_diffs))\n",
        "\n",
        "\n"
      ],
      "metadata": {
        "colab": {
          "base_uri": "https://localhost:8080/"
        },
        "id": "s2GfF8xgqBXm",
        "outputId": "f977a735-8948-4c26-cc44-84677cc6bcb0"
      },
      "execution_count": 23,
      "outputs": [
        {
          "output_type": "stream",
          "name": "stdout",
          "text": [
            "The report of the 'nvidia_stock_prices' are as follows: \n",
            "\n",
            "Number of days in the dataset : 307\n",
            "Highest price : $ 149.43\n",
            "Lowest price : $ 47.57\n",
            "Median price : $ 118.11\n",
            "Average daily percentage change : 0.3641247433331011\n"
          ]
        }
      ]
    }
  ]
}